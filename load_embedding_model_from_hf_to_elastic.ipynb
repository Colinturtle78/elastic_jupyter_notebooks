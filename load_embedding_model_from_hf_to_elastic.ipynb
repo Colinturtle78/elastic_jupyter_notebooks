{
  "nbformat": 4,
  "nbformat_minor": 0,
  "metadata": {
    "colab": {
      "name": " Elastic - NLP - Load HuggingFace Model with Zero Shot Example",
      "provenance": [],
      "authorship_tag": "ABX9TyPfrPOGr28VS657J2a4fIHT",
      "include_colab_link": true
    },
    "kernelspec": {
      "name": "python3",
      "display_name": "Python 3"
    },
    "language_info": {
      "name": "python"
    },
    "widgets": {
      "application/vnd.jupyter.widget-state+json": {
        "e519318ada454999b539cd116a42c002": {
          "model_module": "@jupyter-widgets/controls",
          "model_name": "HBoxModel",
          "model_module_version": "1.5.0",
          "state": {
            "_dom_classes": [],
            "_model_module": "@jupyter-widgets/controls",
            "_model_module_version": "1.5.0",
            "_model_name": "HBoxModel",
            "_view_count": null,
            "_view_module": "@jupyter-widgets/controls",
            "_view_module_version": "1.5.0",
            "_view_name": "HBoxView",
            "box_style": "",
            "children": [
              "IPY_MODEL_aef588dd25224864a80734bd6bea0f0e",
              "IPY_MODEL_4ac01e15fd504dc4b8eb7f52d2358a78",
              "IPY_MODEL_bf29f10b728041f7b65a3a1de5002eb6"
            ],
            "layout": "IPY_MODEL_f5e182f2ec514921b1b9ead250954a16"
          }
        },
        "aef588dd25224864a80734bd6bea0f0e": {
          "model_module": "@jupyter-widgets/controls",
          "model_name": "HTMLModel",
          "model_module_version": "1.5.0",
          "state": {
            "_dom_classes": [],
            "_model_module": "@jupyter-widgets/controls",
            "_model_module_version": "1.5.0",
            "_model_name": "HTMLModel",
            "_view_count": null,
            "_view_module": "@jupyter-widgets/controls",
            "_view_module_version": "1.5.0",
            "_view_name": "HTMLView",
            "description": "",
            "description_tooltip": null,
            "layout": "IPY_MODEL_bf5d55069ea5491096fd3b1419c307b2",
            "placeholder": "​",
            "style": "IPY_MODEL_a059f0a3d228445699447f0d75bcf592",
            "value": "100%"
          }
        },
        "4ac01e15fd504dc4b8eb7f52d2358a78": {
          "model_module": "@jupyter-widgets/controls",
          "model_name": "FloatProgressModel",
          "model_module_version": "1.5.0",
          "state": {
            "_dom_classes": [],
            "_model_module": "@jupyter-widgets/controls",
            "_model_module_version": "1.5.0",
            "_model_name": "FloatProgressModel",
            "_view_count": null,
            "_view_module": "@jupyter-widgets/controls",
            "_view_module_version": "1.5.0",
            "_view_name": "ProgressView",
            "bar_style": "success",
            "description": "",
            "description_tooltip": null,
            "layout": "IPY_MODEL_b0bd66184c6049aa911e9a4a8862bea4",
            "max": 32,
            "min": 0,
            "orientation": "horizontal",
            "style": "IPY_MODEL_539cb1eb88084a618a649bbf0b038353",
            "value": 32
          }
        },
        "bf29f10b728041f7b65a3a1de5002eb6": {
          "model_module": "@jupyter-widgets/controls",
          "model_name": "HTMLModel",
          "model_module_version": "1.5.0",
          "state": {
            "_dom_classes": [],
            "_model_module": "@jupyter-widgets/controls",
            "_model_module_version": "1.5.0",
            "_model_name": "HTMLModel",
            "_view_count": null,
            "_view_module": "@jupyter-widgets/controls",
            "_view_module_version": "1.5.0",
            "_view_name": "HTMLView",
            "description": "",
            "description_tooltip": null,
            "layout": "IPY_MODEL_7c07b479cc184890aa890b9a32215f30",
            "placeholder": "​",
            "style": "IPY_MODEL_978e5be422b84c2c9eb448cb41d40ab7",
            "value": " 32/32 [00:32&lt;00:00,  1.11 parts/s]"
          }
        },
        "f5e182f2ec514921b1b9ead250954a16": {
          "model_module": "@jupyter-widgets/base",
          "model_name": "LayoutModel",
          "model_module_version": "1.2.0",
          "state": {
            "_model_module": "@jupyter-widgets/base",
            "_model_module_version": "1.2.0",
            "_model_name": "LayoutModel",
            "_view_count": null,
            "_view_module": "@jupyter-widgets/base",
            "_view_module_version": "1.2.0",
            "_view_name": "LayoutView",
            "align_content": null,
            "align_items": null,
            "align_self": null,
            "border": null,
            "bottom": null,
            "display": null,
            "flex": null,
            "flex_flow": null,
            "grid_area": null,
            "grid_auto_columns": null,
            "grid_auto_flow": null,
            "grid_auto_rows": null,
            "grid_column": null,
            "grid_gap": null,
            "grid_row": null,
            "grid_template_areas": null,
            "grid_template_columns": null,
            "grid_template_rows": null,
            "height": null,
            "justify_content": null,
            "justify_items": null,
            "left": null,
            "margin": null,
            "max_height": null,
            "max_width": null,
            "min_height": null,
            "min_width": null,
            "object_fit": null,
            "object_position": null,
            "order": null,
            "overflow": null,
            "overflow_x": null,
            "overflow_y": null,
            "padding": null,
            "right": null,
            "top": null,
            "visibility": null,
            "width": null
          }
        },
        "bf5d55069ea5491096fd3b1419c307b2": {
          "model_module": "@jupyter-widgets/base",
          "model_name": "LayoutModel",
          "model_module_version": "1.2.0",
          "state": {
            "_model_module": "@jupyter-widgets/base",
            "_model_module_version": "1.2.0",
            "_model_name": "LayoutModel",
            "_view_count": null,
            "_view_module": "@jupyter-widgets/base",
            "_view_module_version": "1.2.0",
            "_view_name": "LayoutView",
            "align_content": null,
            "align_items": null,
            "align_self": null,
            "border": null,
            "bottom": null,
            "display": null,
            "flex": null,
            "flex_flow": null,
            "grid_area": null,
            "grid_auto_columns": null,
            "grid_auto_flow": null,
            "grid_auto_rows": null,
            "grid_column": null,
            "grid_gap": null,
            "grid_row": null,
            "grid_template_areas": null,
            "grid_template_columns": null,
            "grid_template_rows": null,
            "height": null,
            "justify_content": null,
            "justify_items": null,
            "left": null,
            "margin": null,
            "max_height": null,
            "max_width": null,
            "min_height": null,
            "min_width": null,
            "object_fit": null,
            "object_position": null,
            "order": null,
            "overflow": null,
            "overflow_x": null,
            "overflow_y": null,
            "padding": null,
            "right": null,
            "top": null,
            "visibility": null,
            "width": null
          }
        },
        "a059f0a3d228445699447f0d75bcf592": {
          "model_module": "@jupyter-widgets/controls",
          "model_name": "DescriptionStyleModel",
          "model_module_version": "1.5.0",
          "state": {
            "_model_module": "@jupyter-widgets/controls",
            "_model_module_version": "1.5.0",
            "_model_name": "DescriptionStyleModel",
            "_view_count": null,
            "_view_module": "@jupyter-widgets/base",
            "_view_module_version": "1.2.0",
            "_view_name": "StyleView",
            "description_width": ""
          }
        },
        "b0bd66184c6049aa911e9a4a8862bea4": {
          "model_module": "@jupyter-widgets/base",
          "model_name": "LayoutModel",
          "model_module_version": "1.2.0",
          "state": {
            "_model_module": "@jupyter-widgets/base",
            "_model_module_version": "1.2.0",
            "_model_name": "LayoutModel",
            "_view_count": null,
            "_view_module": "@jupyter-widgets/base",
            "_view_module_version": "1.2.0",
            "_view_name": "LayoutView",
            "align_content": null,
            "align_items": null,
            "align_self": null,
            "border": null,
            "bottom": null,
            "display": null,
            "flex": null,
            "flex_flow": null,
            "grid_area": null,
            "grid_auto_columns": null,
            "grid_auto_flow": null,
            "grid_auto_rows": null,
            "grid_column": null,
            "grid_gap": null,
            "grid_row": null,
            "grid_template_areas": null,
            "grid_template_columns": null,
            "grid_template_rows": null,
            "height": null,
            "justify_content": null,
            "justify_items": null,
            "left": null,
            "margin": null,
            "max_height": null,
            "max_width": null,
            "min_height": null,
            "min_width": null,
            "object_fit": null,
            "object_position": null,
            "order": null,
            "overflow": null,
            "overflow_x": null,
            "overflow_y": null,
            "padding": null,
            "right": null,
            "top": null,
            "visibility": null,
            "width": null
          }
        },
        "539cb1eb88084a618a649bbf0b038353": {
          "model_module": "@jupyter-widgets/controls",
          "model_name": "ProgressStyleModel",
          "model_module_version": "1.5.0",
          "state": {
            "_model_module": "@jupyter-widgets/controls",
            "_model_module_version": "1.5.0",
            "_model_name": "ProgressStyleModel",
            "_view_count": null,
            "_view_module": "@jupyter-widgets/base",
            "_view_module_version": "1.2.0",
            "_view_name": "StyleView",
            "bar_color": null,
            "description_width": ""
          }
        },
        "7c07b479cc184890aa890b9a32215f30": {
          "model_module": "@jupyter-widgets/base",
          "model_name": "LayoutModel",
          "model_module_version": "1.2.0",
          "state": {
            "_model_module": "@jupyter-widgets/base",
            "_model_module_version": "1.2.0",
            "_model_name": "LayoutModel",
            "_view_count": null,
            "_view_module": "@jupyter-widgets/base",
            "_view_module_version": "1.2.0",
            "_view_name": "LayoutView",
            "align_content": null,
            "align_items": null,
            "align_self": null,
            "border": null,
            "bottom": null,
            "display": null,
            "flex": null,
            "flex_flow": null,
            "grid_area": null,
            "grid_auto_columns": null,
            "grid_auto_flow": null,
            "grid_auto_rows": null,
            "grid_column": null,
            "grid_gap": null,
            "grid_row": null,
            "grid_template_areas": null,
            "grid_template_columns": null,
            "grid_template_rows": null,
            "height": null,
            "justify_content": null,
            "justify_items": null,
            "left": null,
            "margin": null,
            "max_height": null,
            "max_width": null,
            "min_height": null,
            "min_width": null,
            "object_fit": null,
            "object_position": null,
            "order": null,
            "overflow": null,
            "overflow_x": null,
            "overflow_y": null,
            "padding": null,
            "right": null,
            "top": null,
            "visibility": null,
            "width": null
          }
        },
        "978e5be422b84c2c9eb448cb41d40ab7": {
          "model_module": "@jupyter-widgets/controls",
          "model_name": "DescriptionStyleModel",
          "model_module_version": "1.5.0",
          "state": {
            "_model_module": "@jupyter-widgets/controls",
            "_model_module_version": "1.5.0",
            "_model_name": "DescriptionStyleModel",
            "_view_count": null,
            "_view_module": "@jupyter-widgets/base",
            "_view_module_version": "1.2.0",
            "_view_name": "StyleView",
            "description_width": ""
          }
        }
      }
    }
  },
  "cells": [
    {
      "cell_type": "markdown",
      "metadata": {
        "id": "view-in-github",
        "colab_type": "text"
      },
      "source": [
        "<a href=\"https://colab.research.google.com/github/jeffvestal/elastic_jupyter_notebooks/blob/main/load_embedding_model_from_hf_to_elastic.ipynb\" target=\"_parent\"><img src=\"https://colab.research.google.com/assets/colab-badge.svg\" alt=\"Open In Colab\"/></a>"
      ]
    },
    {
      "cell_type": "markdown",
      "source": [
        "# Loading an NLP Embedding model from Hugging Face into Elastic\n",
        "\n",
        "This code will show you how to load a supported embedding model from Hugging Face into an elasticsearch cluster in [Elastic Cloud](https://cloud.elastic.co/)\n",
        "\n",
        "### Elastic version support\n",
        "Requires Elastic version 8.0+ with a platinum or enterprise license (or trial license)\n",
        "\n",
        "You can set up a [free trial elasticsearch Deployment in Elastic Cloud](https://cloud.elastic.co/registration).\n",
        "\n",
        "## Deleteme below\n",
        "\n",
        "Example here is loading a [Zero Shot model](https://huggingface.co/typeform/distilbert-base-uncased-mnli)\n",
        "\n",
        "[Elastic NLP Model Support Docs](https://www.elastic.co/guide/en/machine-learning/current/ml-nlp-model-ref.html) \n",
        "\n",
        "\n",
        "Disclaimer: presented as is with no guarantee."
      ],
      "metadata": {
        "id": "6xoLDtS_6Df1"
      }
    },
    {
      "cell_type": "markdown",
      "source": [
        "# Install and import required python libraries"
      ],
      "metadata": {
        "id": "Ly1f1P-l9ri8"
      }
    },
    {
      "cell_type": "markdown",
      "source": [
        "Elastic uses the [eland python library](https://github.com/elastic/eland) to download modesl from Hugging Face hub and load them into elasticsearch"
      ],
      "metadata": {
        "id": "MJAb_8zlPFhQ"
      }
    },
    {
      "cell_type": "code",
      "execution_count": 1,
      "metadata": {
        "id": "rUedSzQW9FIF",
        "colab": {
          "base_uri": "https://localhost:8080/"
        },
        "outputId": "155073be-ea12-4e4e-c5cf-cdfa45191917"
      },
      "outputs": [
        {
          "output_type": "stream",
          "name": "stdout",
          "text": [
            "Looking in indexes: https://pypi.org/simple, https://us-python.pkg.dev/colab-wheels/public/simple/\n",
            "Requirement already satisfied: eland in /usr/local/lib/python3.8/dist-packages (8.3.0)\n",
            "Requirement already satisfied: numpy<2 in /usr/local/lib/python3.8/dist-packages (from eland) (1.21.6)\n",
            "Requirement already satisfied: elasticsearch<9,>=8.3 in /usr/local/lib/python3.8/dist-packages (from eland) (8.6.1)\n",
            "Requirement already satisfied: matplotlib<4 in /usr/local/lib/python3.8/dist-packages (from eland) (3.2.2)\n",
            "Requirement already satisfied: pandas<2,>=1.2 in /usr/local/lib/python3.8/dist-packages (from eland) (1.3.5)\n",
            "Requirement already satisfied: elastic-transport<9,>=8 in /usr/local/lib/python3.8/dist-packages (from elasticsearch<9,>=8.3->eland) (8.4.0)\n",
            "Requirement already satisfied: python-dateutil>=2.1 in /usr/local/lib/python3.8/dist-packages (from matplotlib<4->eland) (2.8.2)\n",
            "Requirement already satisfied: pyparsing!=2.0.4,!=2.1.2,!=2.1.6,>=2.0.1 in /usr/local/lib/python3.8/dist-packages (from matplotlib<4->eland) (3.0.9)\n",
            "Requirement already satisfied: kiwisolver>=1.0.1 in /usr/local/lib/python3.8/dist-packages (from matplotlib<4->eland) (1.4.4)\n",
            "Requirement already satisfied: cycler>=0.10 in /usr/local/lib/python3.8/dist-packages (from matplotlib<4->eland) (0.11.0)\n",
            "Requirement already satisfied: pytz>=2017.3 in /usr/local/lib/python3.8/dist-packages (from pandas<2,>=1.2->eland) (2022.7.1)\n",
            "Requirement already satisfied: urllib3<2,>=1.26.2 in /usr/local/lib/python3.8/dist-packages (from elastic-transport<9,>=8->elasticsearch<9,>=8.3->eland) (1.26.14)\n",
            "Requirement already satisfied: certifi in /usr/local/lib/python3.8/dist-packages (from elastic-transport<9,>=8->elasticsearch<9,>=8.3->eland) (2022.12.7)\n",
            "Requirement already satisfied: six>=1.5 in /usr/local/lib/python3.8/dist-packages (from python-dateutil>=2.1->matplotlib<4->eland) (1.15.0)\n"
          ]
        }
      ],
      "source": [
        "pip install eland"
      ]
    },
    {
      "cell_type": "code",
      "source": [
        "pip install elasticsearch"
      ],
      "metadata": {
        "id": "NK3Wx1I199yB",
        "colab": {
          "base_uri": "https://localhost:8080/"
        },
        "outputId": "025d7b53-2789-4db0-c1c7-a54e3c9709ec"
      },
      "execution_count": 2,
      "outputs": [
        {
          "output_type": "stream",
          "name": "stdout",
          "text": [
            "Looking in indexes: https://pypi.org/simple, https://us-python.pkg.dev/colab-wheels/public/simple/\n",
            "Requirement already satisfied: elasticsearch in /usr/local/lib/python3.8/dist-packages (8.6.1)\n",
            "Requirement already satisfied: elastic-transport<9,>=8 in /usr/local/lib/python3.8/dist-packages (from elasticsearch) (8.4.0)\n",
            "Requirement already satisfied: urllib3<2,>=1.26.2 in /usr/local/lib/python3.8/dist-packages (from elastic-transport<9,>=8->elasticsearch) (1.26.14)\n",
            "Requirement already satisfied: certifi in /usr/local/lib/python3.8/dist-packages (from elastic-transport<9,>=8->elasticsearch) (2022.12.7)\n"
          ]
        }
      ]
    },
    {
      "cell_type": "code",
      "source": [
        "pip install transformers"
      ],
      "metadata": {
        "id": "cEfiiFXakzdP",
        "colab": {
          "base_uri": "https://localhost:8080/"
        },
        "outputId": "fbe54761-01dc-4a8e-dadc-72adc867eecd"
      },
      "execution_count": 3,
      "outputs": [
        {
          "output_type": "stream",
          "name": "stdout",
          "text": [
            "Looking in indexes: https://pypi.org/simple, https://us-python.pkg.dev/colab-wheels/public/simple/\n",
            "Requirement already satisfied: transformers in /usr/local/lib/python3.8/dist-packages (4.26.0)\n",
            "Requirement already satisfied: pyyaml>=5.1 in /usr/local/lib/python3.8/dist-packages (from transformers) (6.0)\n",
            "Requirement already satisfied: numpy>=1.17 in /usr/local/lib/python3.8/dist-packages (from transformers) (1.21.6)\n",
            "Requirement already satisfied: regex!=2019.12.17 in /usr/local/lib/python3.8/dist-packages (from transformers) (2022.6.2)\n",
            "Requirement already satisfied: requests in /usr/local/lib/python3.8/dist-packages (from transformers) (2.25.1)\n",
            "Requirement already satisfied: filelock in /usr/local/lib/python3.8/dist-packages (from transformers) (3.9.0)\n",
            "Requirement already satisfied: tqdm>=4.27 in /usr/local/lib/python3.8/dist-packages (from transformers) (4.64.1)\n",
            "Requirement already satisfied: packaging>=20.0 in /usr/local/lib/python3.8/dist-packages (from transformers) (23.0)\n",
            "Requirement already satisfied: tokenizers!=0.11.3,<0.14,>=0.11.1 in /usr/local/lib/python3.8/dist-packages (from transformers) (0.13.2)\n",
            "Requirement already satisfied: huggingface-hub<1.0,>=0.11.0 in /usr/local/lib/python3.8/dist-packages (from transformers) (0.12.0)\n",
            "Requirement already satisfied: typing-extensions>=3.7.4.3 in /usr/local/lib/python3.8/dist-packages (from huggingface-hub<1.0,>=0.11.0->transformers) (4.4.0)\n",
            "Requirement already satisfied: idna<3,>=2.5 in /usr/local/lib/python3.8/dist-packages (from requests->transformers) (2.10)\n",
            "Requirement already satisfied: certifi>=2017.4.17 in /usr/local/lib/python3.8/dist-packages (from requests->transformers) (2022.12.7)\n",
            "Requirement already satisfied: urllib3<1.27,>=1.21.1 in /usr/local/lib/python3.8/dist-packages (from requests->transformers) (1.26.14)\n",
            "Requirement already satisfied: chardet<5,>=3.0.2 in /usr/local/lib/python3.8/dist-packages (from requests->transformers) (4.0.0)\n"
          ]
        }
      ]
    },
    {
      "cell_type": "code",
      "source": [
        "pip install sentence_transformers"
      ],
      "metadata": {
        "id": "I20mDmJboKZw",
        "colab": {
          "base_uri": "https://localhost:8080/"
        },
        "outputId": "6fe197c2-9b33-4f53-ba75-8ae245edc2b5"
      },
      "execution_count": 4,
      "outputs": [
        {
          "output_type": "stream",
          "name": "stdout",
          "text": [
            "Looking in indexes: https://pypi.org/simple, https://us-python.pkg.dev/colab-wheels/public/simple/\n",
            "Requirement already satisfied: sentence_transformers in /usr/local/lib/python3.8/dist-packages (2.2.2)\n",
            "Requirement already satisfied: transformers<5.0.0,>=4.6.0 in /usr/local/lib/python3.8/dist-packages (from sentence_transformers) (4.26.0)\n",
            "Requirement already satisfied: scipy in /usr/local/lib/python3.8/dist-packages (from sentence_transformers) (1.7.3)\n",
            "Requirement already satisfied: numpy in /usr/local/lib/python3.8/dist-packages (from sentence_transformers) (1.21.6)\n",
            "Requirement already satisfied: torch>=1.6.0 in /usr/local/lib/python3.8/dist-packages (from sentence_transformers) (1.13.1+cu116)\n",
            "Requirement already satisfied: sentencepiece in /usr/local/lib/python3.8/dist-packages (from sentence_transformers) (0.1.97)\n",
            "Requirement already satisfied: torchvision in /usr/local/lib/python3.8/dist-packages (from sentence_transformers) (0.14.1+cu116)\n",
            "Requirement already satisfied: scikit-learn in /usr/local/lib/python3.8/dist-packages (from sentence_transformers) (1.0.2)\n",
            "Requirement already satisfied: nltk in /usr/local/lib/python3.8/dist-packages (from sentence_transformers) (3.7)\n",
            "Requirement already satisfied: tqdm in /usr/local/lib/python3.8/dist-packages (from sentence_transformers) (4.64.1)\n",
            "Requirement already satisfied: huggingface-hub>=0.4.0 in /usr/local/lib/python3.8/dist-packages (from sentence_transformers) (0.12.0)\n",
            "Requirement already satisfied: pyyaml>=5.1 in /usr/local/lib/python3.8/dist-packages (from huggingface-hub>=0.4.0->sentence_transformers) (6.0)\n",
            "Requirement already satisfied: requests in /usr/local/lib/python3.8/dist-packages (from huggingface-hub>=0.4.0->sentence_transformers) (2.25.1)\n",
            "Requirement already satisfied: packaging>=20.9 in /usr/local/lib/python3.8/dist-packages (from huggingface-hub>=0.4.0->sentence_transformers) (23.0)\n",
            "Requirement already satisfied: filelock in /usr/local/lib/python3.8/dist-packages (from huggingface-hub>=0.4.0->sentence_transformers) (3.9.0)\n",
            "Requirement already satisfied: typing-extensions>=3.7.4.3 in /usr/local/lib/python3.8/dist-packages (from huggingface-hub>=0.4.0->sentence_transformers) (4.4.0)\n",
            "Requirement already satisfied: tokenizers!=0.11.3,<0.14,>=0.11.1 in /usr/local/lib/python3.8/dist-packages (from transformers<5.0.0,>=4.6.0->sentence_transformers) (0.13.2)\n",
            "Requirement already satisfied: regex!=2019.12.17 in /usr/local/lib/python3.8/dist-packages (from transformers<5.0.0,>=4.6.0->sentence_transformers) (2022.6.2)\n",
            "Requirement already satisfied: joblib in /usr/local/lib/python3.8/dist-packages (from nltk->sentence_transformers) (1.2.0)\n",
            "Requirement already satisfied: click in /usr/local/lib/python3.8/dist-packages (from nltk->sentence_transformers) (7.1.2)\n",
            "Requirement already satisfied: threadpoolctl>=2.0.0 in /usr/local/lib/python3.8/dist-packages (from scikit-learn->sentence_transformers) (3.1.0)\n",
            "Requirement already satisfied: pillow!=8.3.*,>=5.3.0 in /usr/local/lib/python3.8/dist-packages (from torchvision->sentence_transformers) (7.1.2)\n",
            "Requirement already satisfied: chardet<5,>=3.0.2 in /usr/local/lib/python3.8/dist-packages (from requests->huggingface-hub>=0.4.0->sentence_transformers) (4.0.0)\n",
            "Requirement already satisfied: certifi>=2017.4.17 in /usr/local/lib/python3.8/dist-packages (from requests->huggingface-hub>=0.4.0->sentence_transformers) (2022.12.7)\n",
            "Requirement already satisfied: idna<3,>=2.5 in /usr/local/lib/python3.8/dist-packages (from requests->huggingface-hub>=0.4.0->sentence_transformers) (2.10)\n",
            "Requirement already satisfied: urllib3<1.27,>=1.21.1 in /usr/local/lib/python3.8/dist-packages (from requests->huggingface-hub>=0.4.0->sentence_transformers) (1.26.14)\n"
          ]
        }
      ]
    },
    {
      "cell_type": "code",
      "source": [
        "pip install torch==1.11"
      ],
      "metadata": {
        "id": "uqcpWrbkBEB9",
        "colab": {
          "base_uri": "https://localhost:8080/"
        },
        "outputId": "a341dbd8-483d-4243-f12f-704d2e1ca0ec"
      },
      "execution_count": 5,
      "outputs": [
        {
          "output_type": "stream",
          "name": "stdout",
          "text": [
            "Looking in indexes: https://pypi.org/simple, https://us-python.pkg.dev/colab-wheels/public/simple/\n",
            "Collecting torch==1.11\n",
            "  Downloading torch-1.11.0-cp38-cp38-manylinux1_x86_64.whl (750.6 MB)\n",
            "\u001b[2K     \u001b[90m━━━━━━━━━━━━━━━━━━━━━━━━━━━━━━━━━━━━━\u001b[0m \u001b[32m750.6/750.6 MB\u001b[0m \u001b[31m847.2 kB/s\u001b[0m eta \u001b[36m0:00:00\u001b[0m\n",
            "\u001b[?25hRequirement already satisfied: typing-extensions in /usr/local/lib/python3.8/dist-packages (from torch==1.11) (4.4.0)\n",
            "Installing collected packages: torch\n",
            "  Attempting uninstall: torch\n",
            "    Found existing installation: torch 1.13.1+cu116\n",
            "    Uninstalling torch-1.13.1+cu116:\n",
            "      Successfully uninstalled torch-1.13.1+cu116\n",
            "\u001b[31mERROR: pip's dependency resolver does not currently take into account all the packages that are installed. This behaviour is the source of the following dependency conflicts.\n",
            "torchvision 0.14.1+cu116 requires torch==1.13.1, but you have torch 1.11.0 which is incompatible.\n",
            "torchtext 0.14.1 requires torch==1.13.1, but you have torch 1.11.0 which is incompatible.\n",
            "torchaudio 0.13.1+cu116 requires torch==1.13.1, but you have torch 1.11.0 which is incompatible.\u001b[0m\u001b[31m\n",
            "\u001b[0mSuccessfully installed torch-1.11.0\n"
          ]
        }
      ]
    },
    {
      "cell_type": "code",
      "source": [
        "from pathlib import Path\n",
        "from eland.ml.pytorch import PyTorchModel\n",
        "from eland.ml.pytorch.transformers import TransformerModel\n",
        "from elasticsearch import Elasticsearch\n",
        "from elasticsearch.client import MlClient"
      ],
      "metadata": {
        "colab": {
          "base_uri": "https://localhost:8080/"
        },
        "id": "wyUZXUi4RWWL",
        "outputId": "82bf1d8f-2e91-41b7-db9a-0a6b0e916fa6"
      },
      "execution_count": 6,
      "outputs": [
        {
          "output_type": "stream",
          "name": "stderr",
          "text": [
            "<ipython-input-6-ed653d9ea084>:5: DeprecationWarning: Importing from the 'elasticsearch.client' module is deprecated. Instead use 'elasticsearch' module for importing the client.\n",
            "  from elasticsearch.client import MlClient\n"
          ]
        }
      ]
    },
    {
      "cell_type": "markdown",
      "source": [
        "# Configure elasticsearch authentication. \n",
        "For this example we are using the [Elastic Cloud ID](https://www.elastic.co/guide/en/cloud/current/ec-cloud-id.html) and a [cluster API key](https://www.elastic.co/guide/en/kibana/current/api-keys.html)\n",
        "\n",
        "You can use any method you wish to set the required credentials. We are using getpass in this example to prompt for credentials."
      ],
      "metadata": {
        "id": "r7nMIbHke37Q"
      }
    },
    {
      "cell_type": "code",
      "source": [
        "import getpass"
      ],
      "metadata": {
        "id": "Xsd2m7HoTCLm"
      },
      "execution_count": 7,
      "outputs": []
    },
    {
      "cell_type": "code",
      "source": [
        "es_cloud_id = getpass.getpass('Enter Elastic Cloud ID:  ')\n",
        "es_api_id = getpass.getpass('Enter cluster API key ID:  ') \n",
        "es_api_key = getpass.getpass('Enter cluster API key:  ')"
      ],
      "metadata": {
        "id": "SSGgYHome69o",
        "colab": {
          "base_uri": "https://localhost:8080/"
        },
        "outputId": "82fc6ebb-b2c0-4072-b043-d5835606143c"
      },
      "execution_count": 8,
      "outputs": [
        {
          "name": "stdout",
          "output_type": "stream",
          "text": [
            "Enter Elastic Cloud ID:  ··········\n",
            "Enter cluster API key ID:  ··········\n",
            "Enter cluster API key:  ··········\n"
          ]
        }
      ]
    },
    {
      "cell_type": "markdown",
      "source": [
        "# Connect to Elastic and Load a Hugging Face Model"
      ],
      "metadata": {
        "id": "jL4VDnVp96lf"
      }
    },
    {
      "cell_type": "code",
      "source": [
        "es = Elasticsearch(cloud_id=es_cloud_id, \n",
        "                   api_key=(es_api_id, es_api_key)\n",
        "                   )\n",
        "es.info() # should return cluster info"
      ],
      "metadata": {
        "id": "I8mVJkKmetXo",
        "colab": {
          "base_uri": "https://localhost:8080/"
        },
        "outputId": "a5c1b116-9fae-4b8a-a280-1c6b47f18ff7"
      },
      "execution_count": 9,
      "outputs": [
        {
          "output_type": "execute_result",
          "data": {
            "text/plain": [
              "ObjectApiResponse({'name': 'instance-0000000001', 'cluster_name': 'a7bf48bf42ad403ab45dd6b90b860f85', 'cluster_uuid': 'gEbjuhUOSyCVzG4Gz2SQ2w', 'version': {'number': '8.6.0', 'build_flavor': 'default', 'build_type': 'docker', 'build_hash': 'f67ef2df40237445caa70e2fef79471cc608d70d', 'build_date': '2023-01-04T09:35:21.782467981Z', 'build_snapshot': False, 'lucene_version': '9.4.2', 'minimum_wire_compatibility_version': '7.17.0', 'minimum_index_compatibility_version': '7.0.0'}, 'tagline': 'You Know, for Search'})"
            ]
          },
          "metadata": {},
          "execution_count": 9
        }
      ]
    },
    {
      "cell_type": "markdown",
      "source": [
        "[Supported `task_type` values](https://github.com/elastic/eland/blob/15a300728876022b206161d71055c67b500a0192/eland/ml/pytorch/transformers.py#*L41*)"
      ],
      "metadata": {
        "id": "QmZ1fkwYM5er"
      }
    },
    {
      "cell_type": "markdown",
      "source": [
        "# Download an embedding model from Hugging Face using the HF copy link\n",
        "\n",
        "[sentence-transformers/msmarco-MiniLM-L-12-v3](https://huggingface.co/sentence-transformers/msmarco-MiniLM-L-12-v3)\n"
      ],
      "metadata": {
        "id": "10VvWJ87alld"
      }
    },
    {
      "cell_type": "code",
      "source": [
        "hf_model_id='sentence-transformers/msmarco-MiniLM-L-12-v3'\n",
        "tm = TransformerModel(hf_model_id, \"text_embedding\")"
      ],
      "metadata": {
        "id": "zPV3oFsKiYFL"
      },
      "execution_count": 10,
      "outputs": []
    },
    {
      "cell_type": "code",
      "source": [
        "es_model_id = tm.elasticsearch_model_id()\n",
        "es_model_id"
      ],
      "metadata": {
        "colab": {
          "base_uri": "https://localhost:8080/",
          "height": 35
        },
        "id": "XkIQBBCbdqvQ",
        "outputId": "880db69e-4001-468d-d151-ebebf52d1f9f"
      },
      "execution_count": 11,
      "outputs": [
        {
          "output_type": "execute_result",
          "data": {
            "text/plain": [
              "'sentence-transformers__msmarco-minilm-l-12-v3'"
            ],
            "application/vnd.google.colaboratory.intrinsic+json": {
              "type": "string"
            }
          },
          "metadata": {},
          "execution_count": 11
        }
      ]
    },
    {
      "cell_type": "markdown",
      "source": [
        "### Export the model in a TorchScrpt representation which Elasticsearch uses"
      ],
      "metadata": {
        "id": "p0L2cfYwbIld"
      }
    },
    {
      "cell_type": "code",
      "source": [
        "tmp_path = \"models\"\n",
        "Path(tmp_path).mkdir(parents=True, exist_ok=True)\n",
        "model_path, config, vocab_path = tm.save(tmp_path)"
      ],
      "metadata": {
        "id": "GsSpvvP-nbCK"
      },
      "execution_count": 12,
      "outputs": []
    },
    {
      "cell_type": "markdown",
      "source": [
        "### Import model into Elasticsearch\n",
        "Model should not already exist in elasticsearch"
      ],
      "metadata": {
        "id": "k1a_yNo6ba2E"
      }
    },
    {
      "cell_type": "code",
      "source": [
        "ptm = PyTorchModel(es, es_model_id)\n",
        "ptm.import_model(model_path=model_path, config_path=None, vocab_path=vocab_path, config=config) "
      ],
      "metadata": {
        "id": "Z4QD71Apnj4j",
        "colab": {
          "base_uri": "https://localhost:8080/",
          "height": 49,
          "referenced_widgets": [
            "e519318ada454999b539cd116a42c002",
            "aef588dd25224864a80734bd6bea0f0e",
            "4ac01e15fd504dc4b8eb7f52d2358a78",
            "bf29f10b728041f7b65a3a1de5002eb6",
            "f5e182f2ec514921b1b9ead250954a16",
            "bf5d55069ea5491096fd3b1419c307b2",
            "a059f0a3d228445699447f0d75bcf592",
            "b0bd66184c6049aa911e9a4a8862bea4",
            "539cb1eb88084a618a649bbf0b038353",
            "7c07b479cc184890aa890b9a32215f30",
            "978e5be422b84c2c9eb448cb41d40ab7"
          ]
        },
        "outputId": "42cb7a44-cb8c-497b-e9b7-7f5c55218dfa"
      },
      "execution_count": 14,
      "outputs": [
        {
          "output_type": "display_data",
          "data": {
            "text/plain": [
              "  0%|          | 0/32 [00:00<?, ? parts/s]"
            ],
            "application/vnd.jupyter.widget-view+json": {
              "version_major": 2,
              "version_minor": 0,
              "model_id": "e519318ada454999b539cd116a42c002"
            }
          },
          "metadata": {}
        }
      ]
    },
    {
      "cell_type": "markdown",
      "source": [
        "# Operationalizing the Model"
      ],
      "metadata": {
        "id": "4UYSzFp3vHdB"
      }
    },
    {
      "cell_type": "markdown",
      "source": [
        "## Deploy the model\n",
        "This will load the model on the ML nodes for use"
      ],
      "metadata": {
        "id": "oMGw3sk-pbaN"
      }
    },
    {
      "cell_type": "code",
      "source": [
        "# List the in elasticsearch\n",
        "m = MlClient.get_trained_models(es, model_id=es_model_id)\n",
        "m.body"
      ],
      "metadata": {
        "id": "b4Wv8EJvpfZI",
        "colab": {
          "base_uri": "https://localhost:8080/"
        },
        "outputId": "9fd069f4-c128-48f3-a7ab-0e4a8ba5cc75"
      },
      "execution_count": 15,
      "outputs": [
        {
          "output_type": "execute_result",
          "data": {
            "text/plain": [
              "{'count': 1,\n",
              " 'trained_model_configs': [{'model_id': 'sentence-transformers__msmarco-minilm-l-12-v3',\n",
              "   'model_type': 'pytorch',\n",
              "   'created_by': 'api_user',\n",
              "   'version': '8.6.0',\n",
              "   'create_time': 1675731184156,\n",
              "   'model_size_bytes': 0,\n",
              "   'estimated_operations': 0,\n",
              "   'license_level': 'platinum',\n",
              "   'description': \"Model sentence-transformers/msmarco-MiniLM-L-12-v3 for task type 'text_embedding'\",\n",
              "   'tags': [],\n",
              "   'input': {'field_names': ['text_field']},\n",
              "   'inference_config': {'text_embedding': {'vocabulary': {'index': '.ml-inference-native-000001'},\n",
              "     'tokenization': {'bert': {'do_lower_case': True,\n",
              "       'with_special_tokens': True,\n",
              "       'max_sequence_length': 512,\n",
              "       'truncate': 'first',\n",
              "       'span': -1}}}},\n",
              "   'location': {'index': {'name': '.ml-inference-native-000001'}}}]}"
            ]
          },
          "metadata": {},
          "execution_count": 15
        }
      ]
    },
    {
      "cell_type": "code",
      "source": [
        "# start trained model deployment\n",
        "s = MlClient.start_trained_model_deployment(es, model_id=es_model_id)\n",
        "s.body\n",
        "\n",
        "# You can see model state in Kibana -> Machine Learning -> Model Management -> Trained Models"
      ],
      "metadata": {
        "id": "w5muJ1rLqvUW",
        "colab": {
          "base_uri": "https://localhost:8080/"
        },
        "outputId": "9c32af02-1e4e-4fdd-aa4d-c5653eb86d78"
      },
      "execution_count": 16,
      "outputs": [
        {
          "output_type": "execute_result",
          "data": {
            "text/plain": [
              "{'assignment': {'task_parameters': {'model_id': 'sentence-transformers__msmarco-minilm-l-12-v3',\n",
              "   'model_bytes': 132923217,\n",
              "   'threads_per_allocation': 1,\n",
              "   'number_of_allocations': 1,\n",
              "   'queue_capacity': 1024,\n",
              "   'cache_size': '132923217b',\n",
              "   'priority': 'normal'},\n",
              "  'routing_table': {'dDqmmPySSKuH8d7HcF54uA': {'current_allocations': 1,\n",
              "    'target_allocations': 1,\n",
              "    'routing_state': 'started',\n",
              "    'reason': ''}},\n",
              "  'assignment_state': 'started',\n",
              "  'start_time': '2023-02-07T00:53:53.570574077Z',\n",
              "  'max_assigned_allocations': 1}}"
            ]
          },
          "metadata": {},
          "execution_count": 16
        }
      ]
    },
    {
      "cell_type": "code",
      "source": [
        "stats = MlClient.get_trained_models_stats(es, model_id=es_model_id)\n",
        "stats.body['trained_model_stats'][0]['deployment_stats']['nodes'][0]['routing_state']"
      ],
      "metadata": {
        "colab": {
          "base_uri": "https://localhost:8080/"
        },
        "id": "ZaQUUWe0Hxwz",
        "outputId": "fd09831e-184e-4a3c-c49e-39455ec02463"
      },
      "execution_count": 17,
      "outputs": [
        {
          "output_type": "execute_result",
          "data": {
            "text/plain": [
              "{'routing_state': 'started'}"
            ]
          },
          "metadata": {},
          "execution_count": 17
        }
      ]
    },
    {
      "cell_type": "markdown",
      "source": [
        "## Generate Vector for Query\n"
      ],
      "metadata": {
        "id": "6Hu2n4bmGYkG"
      }
    },
    {
      "cell_type": "code",
      "source": [
        "#{\n",
        "#  \"docs\": [{\"text_field\": \"What was Jean Valjean prisoner number?\"}]\n",
        "#}\n",
        "\n",
        "docs =  [\n",
        "    {\n",
        "      \"text_field\": \"Last week I upgraded my iOS version and ever since then my phone has been overheating whenever I use your app.\"\n",
        "    }\n",
        "  ]"
      ],
      "metadata": {
        "id": "wBNV7q5Dwlz6"
      },
      "execution_count": 18,
      "outputs": []
    },
    {
      "cell_type": "code",
      "source": [
        "# future reference do not use yet\n",
        "#z = MlClient.infer_trained_model_deployment(es, model_id =es_model_id, docs=docs, )\n",
        "z = MlClient.infer_trained_model(es, model_id=es_model_id, docs=docs, )"
      ],
      "metadata": {
        "id": "ZsWg7XPSGbiu"
      },
      "execution_count": 19,
      "outputs": []
    },
    {
      "cell_type": "code",
      "source": [
        "z['inference_results'][0]['predicted_value']"
      ],
      "metadata": {
        "id": "Rle3J5mJXbdf",
        "outputId": "53500bbd-0807-4d18-83ca-54f47a321c1d",
        "colab": {
          "base_uri": "https://localhost:8080/"
        }
      },
      "execution_count": 23,
      "outputs": [
        {
          "output_type": "execute_result",
          "data": {
            "text/plain": [
              "[-0.003885856131091714,\n",
              " 0.10948595404624939,\n",
              " 0.4242307245731354,\n",
              " -0.1088743731379509,\n",
              " 0.25633704662323,\n",
              " -0.29534631967544556,\n",
              " 0.0018348372541368008,\n",
              " -0.04669986665248871,\n",
              " 0.08677243441343307,\n",
              " -0.10970480740070343,\n",
              " -0.27509960532188416,\n",
              " 0.33432483673095703,\n",
              " 0.2643325924873352,\n",
              " -0.19775789976119995,\n",
              " 0.26366937160491943,\n",
              " 0.12308581918478012,\n",
              " -0.45062845945358276,\n",
              " 0.05021745711565018,\n",
              " -0.20362886786460876,\n",
              " 0.11058223992586136,\n",
              " -0.4123060405254364,\n",
              " -0.10743958503007889,\n",
              " -0.14408890902996063,\n",
              " 0.12179391086101532,\n",
              " -0.2939355969429016,\n",
              " 0.26750823855400085,\n",
              " 0.21124641597270966,\n",
              " 0.12771840393543243,\n",
              " -0.3403322398662567,\n",
              " 0.2825608551502228,\n",
              " -0.15237951278686523,\n",
              " 0.28149640560150146,\n",
              " 0.030429411679506302,\n",
              " 0.10954266041517258,\n",
              " -0.09875885397195816,\n",
              " -0.11424262076616287,\n",
              " -0.5897471904754639,\n",
              " -0.17613087594509125,\n",
              " -0.40651747584342957,\n",
              " -0.236677348613739,\n",
              " -0.03501296788454056,\n",
              " 0.47361087799072266,\n",
              " 0.0849834755063057,\n",
              " 0.008568909019231796,\n",
              " 0.6042559742927551,\n",
              " 0.07740518450737,\n",
              " 0.19681835174560547,\n",
              " -0.1299455761909485,\n",
              " 0.13553866744041443,\n",
              " -0.08792571723461151,\n",
              " 0.42249253392219543,\n",
              " 0.3310917317867279,\n",
              " 0.5288576483726501,\n",
              " -0.009851038455963135,\n",
              " 0.17635227739810944,\n",
              " 0.16484969854354858,\n",
              " 0.06355173885822296,\n",
              " 0.3946029841899872,\n",
              " 0.3390691876411438,\n",
              " -0.4722146987915039,\n",
              " -0.05329582840204239,\n",
              " -0.1334967315196991,\n",
              " 0.21954594552516937,\n",
              " 0.17888887226581573,\n",
              " -0.026318587362766266,\n",
              " 0.012152234092354774,\n",
              " 0.12191196531057358,\n",
              " 0.024440137669444084,\n",
              " -0.008074595592916012,\n",
              " -0.242734894156456,\n",
              " -0.05482376366853714,\n",
              " 0.14951728284358978,\n",
              " 0.23514828085899353,\n",
              " 0.3442710041999817,\n",
              " 0.19410936534404755,\n",
              " 0.013174157589673996,\n",
              " -0.1166691705584526,\n",
              " -0.30687859654426575,\n",
              " 0.017231382429599762,\n",
              " 0.3645135462284088,\n",
              " 0.16178303956985474,\n",
              " -0.16453000903129578,\n",
              " 0.10022996366024017,\n",
              " -0.11043807119131088,\n",
              " 0.3725802004337311,\n",
              " -0.29506972432136536,\n",
              " -0.2492927759885788,\n",
              " 0.23331481218338013,\n",
              " -0.0441715270280838,\n",
              " -0.0642186850309372,\n",
              " 0.05564494431018829,\n",
              " 0.055439867079257965,\n",
              " 0.3858643174171448,\n",
              " -0.2158697545528412,\n",
              " 0.025994988158345222,\n",
              " 0.31897303462028503,\n",
              " 0.17592045664787292,\n",
              " -0.13387444615364075,\n",
              " -0.739593505859375,\n",
              " -0.49862751364707947,\n",
              " -0.01181176770478487,\n",
              " -0.04652019962668419,\n",
              " 0.20757204294204712,\n",
              " 0.32158011198043823,\n",
              " 0.04436710104346275,\n",
              " 0.03480380028486252,\n",
              " -0.10445524752140045,\n",
              " -0.16484615206718445,\n",
              " -0.1382179856300354,\n",
              " 0.08801494538784027,\n",
              " 0.02126157656311989,\n",
              " -0.5870791077613831,\n",
              " 0.2723127007484436,\n",
              " -0.10965406894683838,\n",
              " -0.013262583874166012,\n",
              " -0.25753772258758545,\n",
              " 0.21175123751163483,\n",
              " 0.14598320424556732,\n",
              " -0.20904281735420227,\n",
              " 0.14670902490615845,\n",
              " 0.07254749536514282,\n",
              " 0.052954331040382385,\n",
              " -0.17298577725887299,\n",
              " -0.07138784974813461,\n",
              " -0.09911586344242096,\n",
              " 0.17316889762878418,\n",
              " 0.0022898910101503134,\n",
              " -0.09780067950487137,\n",
              " 0.02181045152246952,\n",
              " -0.07558279484510422,\n",
              " -0.21433614194393158,\n",
              " -0.046627242118120193,\n",
              " -0.2803015112876892,\n",
              " -0.18648280203342438,\n",
              " 0.1328068971633911,\n",
              " -0.29885146021842957,\n",
              " 0.09394924342632294,\n",
              " -0.8499804139137268,\n",
              " 0.3266242444515228,\n",
              " 0.08025292307138443,\n",
              " 0.10109125822782516,\n",
              " -0.11090603470802307,\n",
              " 0.06825622171163559,\n",
              " -0.09219281375408173,\n",
              " 0.27047523856163025,\n",
              " -0.15048077702522278,\n",
              " -0.05240375176072121,\n",
              " 0.24842292070388794,\n",
              " -0.025169482454657555,\n",
              " -0.2853749096393585,\n",
              " 0.13860729336738586,\n",
              " -0.3836221694946289,\n",
              " -0.3352752923965454,\n",
              " -0.11112987250089645,\n",
              " 0.06351731717586517,\n",
              " -0.12712883949279785,\n",
              " 0.2123919278383255,\n",
              " 0.11287601292133331,\n",
              " 0.03639594092965126,\n",
              " -0.1633918136358261,\n",
              " -0.15414080023765564,\n",
              " 0.09935642033815384,\n",
              " -0.18570001423358917,\n",
              " -0.050076983869075775,\n",
              " 0.41521087288856506,\n",
              " 0.2448388636112213,\n",
              " 0.23912781476974487,\n",
              " 0.24144110083580017,\n",
              " -0.17211347818374634,\n",
              " -0.24256326258182526,\n",
              " 0.1391703486442566,\n",
              " -0.3042084872722626,\n",
              " 0.12040722370147705,\n",
              " -0.16123272478580475,\n",
              " -0.13514700531959534,\n",
              " -0.01546529121696949,\n",
              " 3.452599048614502e-05,\n",
              " -0.1589629054069519,\n",
              " -0.20871084928512573,\n",
              " 0.12014840543270111,\n",
              " -0.14841458201408386,\n",
              " -0.03357333317399025,\n",
              " -0.1912229061126709,\n",
              " 0.14028078317642212,\n",
              " -0.0351877436041832,\n",
              " -0.07117905467748642,\n",
              " 0.36002877354621887,\n",
              " 0.11459691822528839,\n",
              " 0.013323796913027763,\n",
              " 0.12381081283092499,\n",
              " -0.12305024266242981,\n",
              " -0.24220719933509827,\n",
              " 0.03795082867145538,\n",
              " -0.08628097176551819,\n",
              " -0.013102046214044094,\n",
              " 0.07439504563808441,\n",
              " -0.44062644243240356,\n",
              " 0.24323056638240814,\n",
              " 0.24261552095413208,\n",
              " -0.3044946789741516,\n",
              " 0.21230150759220123,\n",
              " 0.28679031133651733,\n",
              " 0.2185177505016327,\n",
              " 0.07999558001756668,\n",
              " -0.4702042043209076,\n",
              " -0.07393892854452133,\n",
              " -0.28623226284980774,\n",
              " 0.0013146561104804277,\n",
              " 0.24817779660224915,\n",
              " -0.025800887495279312,\n",
              " 0.4205380976200104,\n",
              " 0.0942082554101944,\n",
              " 0.1612144112586975,\n",
              " 0.10879424959421158,\n",
              " 0.0004509045393206179,\n",
              " -0.04000021889805794,\n",
              " -0.00423185620456934,\n",
              " 0.2031368464231491,\n",
              " 0.13572654128074646,\n",
              " 0.20765964686870575,\n",
              " -0.06549771875143051,\n",
              " 0.14877401292324066,\n",
              " -0.07971450686454773,\n",
              " 0.4591144025325775,\n",
              " -0.06274019926786423,\n",
              " -0.3527993857860565,\n",
              " -0.03348705545067787,\n",
              " 0.249444380402565,\n",
              " -0.140738382935524,\n",
              " 0.19224213063716888,\n",
              " -0.023816419765353203,\n",
              " 0.16830120980739594,\n",
              " -0.19497083127498627,\n",
              " -0.28580334782600403,\n",
              " 0.5298312902450562,\n",
              " 0.1737305074930191,\n",
              " -0.6310760974884033,\n",
              " 0.13102474808692932,\n",
              " -0.02238292247056961,\n",
              " 0.26786521077156067,\n",
              " -0.09528718888759613,\n",
              " 0.16725081205368042,\n",
              " 0.16850203275680542,\n",
              " -0.14449267089366913,\n",
              " -0.2374810427427292,\n",
              " -0.04927051067352295,\n",
              " 0.10794707387685776,\n",
              " -0.15786859393119812,\n",
              " -0.2598021328449249,\n",
              " -0.3315400779247284,\n",
              " 0.32324090600013733,\n",
              " 0.5100217461585999,\n",
              " 0.2720865309238434,\n",
              " -0.2508700489997864,\n",
              " 0.21982556581497192,\n",
              " -0.12156148999929428,\n",
              " -0.24775931239128113,\n",
              " 0.14755879342556,\n",
              " 0.6353489756584167,\n",
              " 0.3586731553077698,\n",
              " -0.032816484570503235,\n",
              " -0.011388606391847134,\n",
              " 0.006436114199459553,\n",
              " 0.0287964828312397,\n",
              " 0.10284647345542908,\n",
              " 0.02239791676402092,\n",
              " 0.12254869192838669,\n",
              " -0.2885177731513977,\n",
              " 0.21272923052310944,\n",
              " -0.3596663177013397,\n",
              " -0.17371797561645508,\n",
              " -0.03460067883133888,\n",
              " 0.19892767071723938,\n",
              " -0.275660902261734,\n",
              " 0.45292964577674866,\n",
              " 0.05926772579550743,\n",
              " 0.11447543650865555,\n",
              " 0.19181214272975922,\n",
              " 0.07803269475698471,\n",
              " -0.15268608927726746,\n",
              " 0.5469557046890259,\n",
              " 0.19787415862083435,\n",
              " -0.0015724495751783252,\n",
              " 0.2149626463651657,\n",
              " -0.11609141528606415,\n",
              " -0.0223272442817688,\n",
              " 0.006261839531362057,\n",
              " -0.21757307648658752,\n",
              " 0.029973356053233147,\n",
              " -0.025455845519900322,\n",
              " 0.1240319311618805,\n",
              " -0.155928835272789,\n",
              " 0.011009550653398037,\n",
              " -0.10164137929677963,\n",
              " -0.04027585685253143,\n",
              " 0.05720504745841026,\n",
              " -0.396293580532074,\n",
              " -0.19307950139045715,\n",
              " 0.24721501767635345,\n",
              " -0.21904683113098145,\n",
              " 0.6104707717895508,\n",
              " 0.43936586380004883,\n",
              " -0.15275412797927856,\n",
              " -0.5333942770957947,\n",
              " 0.30260878801345825,\n",
              " 0.1501358300447464,\n",
              " 0.10891512036323547,\n",
              " -0.24527882039546967,\n",
              " -0.3066144287586212,\n",
              " -0.39321577548980713,\n",
              " 0.015591699630022049,\n",
              " -0.2837260663509369,\n",
              " -0.28241029381752014,\n",
              " 0.056794002652168274,\n",
              " -0.01362532377243042,\n",
              " 0.05781649053096771,\n",
              " -0.17789708077907562,\n",
              " -0.0177215114235878,\n",
              " 0.014592542313039303,\n",
              " 0.4776902198791504,\n",
              " -0.12015579640865326,\n",
              " -0.13732342422008514,\n",
              " 0.2952851355075836,\n",
              " -0.008511417545378208,\n",
              " -0.2667955756187439,\n",
              " 0.07502999901771545,\n",
              " 0.2595199942588806,\n",
              " -0.1980678141117096,\n",
              " 0.2069152295589447,\n",
              " -0.8201789855957031,\n",
              " 0.08088070899248123,\n",
              " -0.10175756365060806,\n",
              " -0.006646575406193733,\n",
              " -0.0092161251232028,\n",
              " 0.17174431681632996,\n",
              " 0.33126577734947205,\n",
              " -0.22357122600078583,\n",
              " 0.31392911076545715,\n",
              " 0.12163711339235306,\n",
              " -0.21535179018974304,\n",
              " -0.46419233083724976,\n",
              " -0.09860319644212723,\n",
              " -0.13930819928646088,\n",
              " -0.3049645721912384,\n",
              " 0.3326910436153412,\n",
              " 0.20184895396232605,\n",
              " -0.0849977359175682,\n",
              " 0.0434710718691349,\n",
              " 0.16038364171981812,\n",
              " -0.5746582746505737,\n",
              " -0.3061164617538452,\n",
              " -0.2171785831451416,\n",
              " -0.4088473618030548,\n",
              " 0.25307586789131165,\n",
              " 0.05794893205165863,\n",
              " 0.036572158336639404,\n",
              " 0.09387201815843582,\n",
              " -0.04686310142278671,\n",
              " 0.03145706653594971,\n",
              " -0.5094637274742126,\n",
              " -0.07814057916402817,\n",
              " -0.3573862314224243,\n",
              " -0.40314382314682007,\n",
              " -0.24389781057834625,\n",
              " 0.16656915843486786,\n",
              " -0.2187737077474594,\n",
              " 0.5528304576873779,\n",
              " -0.051554616540670395,\n",
              " -0.18565620481967926,\n",
              " 0.21812734007835388,\n",
              " -0.2737676799297333,\n",
              " -0.14360277354717255,\n",
              " 0.34775030612945557,\n",
              " 0.24621739983558655,\n",
              " -0.08978495001792908,\n",
              " -0.3825901448726654,\n",
              " -0.15250152349472046,\n",
              " 0.049512092024087906,\n",
              " -0.05676402896642685,\n",
              " -0.004833989776670933,\n",
              " 0.419295996427536,\n",
              " 0.2418995499610901,\n",
              " -0.20251265168190002,\n",
              " 0.18246015906333923]"
            ]
          },
          "metadata": {},
          "execution_count": 23
        }
      ]
    }
  ]
}